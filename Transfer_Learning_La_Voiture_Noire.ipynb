{
  "cells": [
    {
      "cell_type": "markdown",
      "metadata": {
        "id": "H1UMCsj3Qmu1"
      },
      "source": [
        "# Transfer Learning"
      ]
    },
    {
      "cell_type": "code",
      "source": [
        "from tensorflow import keras"
      ],
      "metadata": {
        "id": "oh9SaTac3Sq5"
      },
      "execution_count": 10,
      "outputs": []
    },
    {
      "cell_type": "markdown",
      "metadata": {
        "id": "4iaVtTef1EU9"
      },
      "source": [
        "## Downloading the Pretrained Model"
      ]
    },
    {
      "cell_type": "code",
      "source": [
        "base_model = keras.applications.VGG16(\n",
        "    weights='imagenet',  # Load weights pre-trained on ImageNet.\n",
        "    input_shape=(224, 224, 3),\n",
        "    include_top=False)"
      ],
      "metadata": {
        "id": "bJE2Ww3we3Ez",
        "colab": {
          "base_uri": "https://localhost:8080/"
        },
        "outputId": "39cabc1f-84da-4b51-cc45-4bbe73c8f2df"
      },
      "execution_count": 11,
      "outputs": [
        {
          "output_type": "stream",
          "name": "stdout",
          "text": [
            "Downloading data from https://storage.googleapis.com/tensorflow/keras-applications/vgg16/vgg16_weights_tf_dim_ordering_tf_kernels_notop.h5\n",
            "58892288/58889256 [==============================] - 0s 0us/step\n",
            "58900480/58889256 [==============================] - 0s 0us/step\n"
          ]
        }
      ]
    },
    {
      "cell_type": "code",
      "source": [
        "base_model.summary()"
      ],
      "metadata": {
        "colab": {
          "base_uri": "https://localhost:8080/"
        },
        "id": "Qb46vl2-fln3",
        "outputId": "dc4298cb-ce90-4455-8eba-fb59aa34860a"
      },
      "execution_count": 12,
      "outputs": [
        {
          "output_type": "stream",
          "name": "stdout",
          "text": [
            "Model: \"vgg16\"\n",
            "_________________________________________________________________\n",
            " Layer (type)                Output Shape              Param #   \n",
            "=================================================================\n",
            " input_1 (InputLayer)        [(None, 224, 224, 3)]     0         \n",
            "                                                                 \n",
            " block1_conv1 (Conv2D)       (None, 224, 224, 64)      1792      \n",
            "                                                                 \n",
            " block1_conv2 (Conv2D)       (None, 224, 224, 64)      36928     \n",
            "                                                                 \n",
            " block1_pool (MaxPooling2D)  (None, 112, 112, 64)      0         \n",
            "                                                                 \n",
            " block2_conv1 (Conv2D)       (None, 112, 112, 128)     73856     \n",
            "                                                                 \n",
            " block2_conv2 (Conv2D)       (None, 112, 112, 128)     147584    \n",
            "                                                                 \n",
            " block2_pool (MaxPooling2D)  (None, 56, 56, 128)       0         \n",
            "                                                                 \n",
            " block3_conv1 (Conv2D)       (None, 56, 56, 256)       295168    \n",
            "                                                                 \n",
            " block3_conv2 (Conv2D)       (None, 56, 56, 256)       590080    \n",
            "                                                                 \n",
            " block3_conv3 (Conv2D)       (None, 56, 56, 256)       590080    \n",
            "                                                                 \n",
            " block3_pool (MaxPooling2D)  (None, 28, 28, 256)       0         \n",
            "                                                                 \n",
            " block4_conv1 (Conv2D)       (None, 28, 28, 512)       1180160   \n",
            "                                                                 \n",
            " block4_conv2 (Conv2D)       (None, 28, 28, 512)       2359808   \n",
            "                                                                 \n",
            " block4_conv3 (Conv2D)       (None, 28, 28, 512)       2359808   \n",
            "                                                                 \n",
            " block4_pool (MaxPooling2D)  (None, 14, 14, 512)       0         \n",
            "                                                                 \n",
            " block5_conv1 (Conv2D)       (None, 14, 14, 512)       2359808   \n",
            "                                                                 \n",
            " block5_conv2 (Conv2D)       (None, 14, 14, 512)       2359808   \n",
            "                                                                 \n",
            " block5_conv3 (Conv2D)       (None, 14, 14, 512)       2359808   \n",
            "                                                                 \n",
            " block5_pool (MaxPooling2D)  (None, 7, 7, 512)         0         \n",
            "                                                                 \n",
            "=================================================================\n",
            "Total params: 14,714,688\n",
            "Trainable params: 14,714,688\n",
            "Non-trainable params: 0\n",
            "_________________________________________________________________\n"
          ]
        }
      ]
    },
    {
      "cell_type": "code",
      "source": [
        "base_model.trainable = False"
      ],
      "metadata": {
        "id": "eU4k_WF0fsG5"
      },
      "execution_count": 13,
      "outputs": []
    },
    {
      "cell_type": "markdown",
      "metadata": {
        "id": "YdPCwJUKQmvR"
      },
      "source": [
        "## Adding New Layers"
      ]
    },
    {
      "cell_type": "code",
      "source": [
        "inputs = keras.Input(shape=(224, 224, 3))\n",
        "# Separately from setting trainable on the model, we set training to False \n",
        "x = base_model(inputs, training=False)\n",
        "x = keras.layers.GlobalAveragePooling2D()(x)\n",
        "# A Dense classifier with a single unit (binary classification)\n",
        "x = keras.layers.Dense(3)(x)\n",
        "x = keras.layers.Dropout(0.1)(x)\n",
        "outputs = keras.layers.Dense(1)(x)\n",
        "model = keras.Model(inputs, outputs)"
      ],
      "metadata": {
        "id": "mnCEfRGafmWX"
      },
      "execution_count": 14,
      "outputs": []
    },
    {
      "cell_type": "code",
      "execution_count": 15,
      "metadata": {
        "colab": {
          "base_uri": "https://localhost:8080/"
        },
        "id": "NnvVB-khQmvV",
        "outputId": "e41b0bdc-e2db-4279-c937-774652ca6942"
      },
      "outputs": [
        {
          "output_type": "stream",
          "name": "stdout",
          "text": [
            "Model: \"model\"\n",
            "_________________________________________________________________\n",
            " Layer (type)                Output Shape              Param #   \n",
            "=================================================================\n",
            " input_2 (InputLayer)        [(None, 224, 224, 3)]     0         \n",
            "                                                                 \n",
            " vgg16 (Functional)          (None, 7, 7, 512)         14714688  \n",
            "                                                                 \n",
            " global_average_pooling2d (G  (None, 512)              0         \n",
            " lobalAveragePooling2D)                                          \n",
            "                                                                 \n",
            " dense (Dense)               (None, 3)                 1539      \n",
            "                                                                 \n",
            " dropout (Dropout)           (None, 3)                 0         \n",
            "                                                                 \n",
            " dense_1 (Dense)             (None, 1)                 4         \n",
            "                                                                 \n",
            "=================================================================\n",
            "Total params: 14,716,231\n",
            "Trainable params: 1,543\n",
            "Non-trainable params: 14,714,688\n",
            "_________________________________________________________________\n"
          ]
        }
      ],
      "source": [
        "model.summary()"
      ]
    },
    {
      "cell_type": "markdown",
      "metadata": {
        "id": "vFpw_yvpQmvW"
      },
      "source": [
        "## Compiling the Model"
      ]
    },
    {
      "cell_type": "code",
      "execution_count": 17,
      "metadata": {
        "id": "zHg5PvKdQmvY"
      },
      "outputs": [],
      "source": [
        "model.compile(loss=keras.losses.BinaryCrossentropy(from_logits=True), metrics=[keras.metrics.BinaryAccuracy()])"
      ]
    },
    {
      "cell_type": "markdown",
      "metadata": {
        "id": "blLRqkoiQmvY"
      },
      "source": [
        "## Augmenting the Data"
      ]
    },
    {
      "cell_type": "code",
      "execution_count": 18,
      "metadata": {
        "id": "KgLjRyPlQmvZ"
      },
      "outputs": [],
      "source": [
        "from tensorflow.keras.preprocessing.image import ImageDataGenerator\n",
        "# create a data generator\n",
        "datagen = ImageDataGenerator(\n",
        "        samplewise_center=True,  # set each sample mean to 0\n",
        "        rotation_range=10,  # randomly rotate images in the range (degrees, 0 to 180)\n",
        "        zoom_range = 0.2, # Randomly zoom image \n",
        "        width_shift_range=0.2,  # randomly shift images horizontally (fraction of total width)\n",
        "        height_shift_range=0.2,  # randomly shift images vertically (fraction of total height)\n",
        "        horizontal_flip=True,  # randomly flip images\n",
        "        vertical_flip=False)"
      ]
    },
    {
      "cell_type": "markdown",
      "metadata": {
        "id": "n8H1gZokQmva"
      },
      "source": [
        "## Loading the Data"
      ]
    },
    {
      "cell_type": "code",
      "execution_count": 20,
      "metadata": {
        "id": "tB0PkcFwQmvb",
        "colab": {
          "base_uri": "https://localhost:8080/"
        },
        "outputId": "ca1276fe-35dd-4070-ae7b-3a5fcb06c201"
      },
      "outputs": [
        {
          "output_type": "stream",
          "name": "stdout",
          "text": [
            "Found 228 images belonging to 2 classes.\n",
            "Found 32 images belonging to 2 classes.\n"
          ]
        }
      ],
      "source": [
        "# load and iterate training dataset\n",
        "train_it = datagen.flow_from_directory('dataset/train', \n",
        "                                       target_size=(224, 224), \n",
        "                                       color_mode='rgb', \n",
        "                                       class_mode='binary', \n",
        "                                       batch_size=8)\n",
        "# load and iterate validation dataset\n",
        "valid_it = datagen.flow_from_directory('dataset/valid', \n",
        "                                      target_size=(224, 224), \n",
        "                                      color_mode='rgb', \n",
        "                                      class_mode='binary', \n",
        "                                      batch_size=8)"
      ]
    },
    {
      "cell_type": "markdown",
      "metadata": {
        "id": "YOu1nPKwQmvc"
      },
      "source": [
        "## Training the Model"
      ]
    },
    {
      "cell_type": "code",
      "execution_count": null,
      "metadata": {
        "id": "0fDTntytQmvd",
        "colab": {
          "base_uri": "https://localhost:8080/"
        },
        "outputId": "08b7b8bf-688d-457b-ac95-e33e54744ff3"
      },
      "outputs": [
        {
          "output_type": "stream",
          "name": "stdout",
          "text": [
            "Epoch 1/18\n",
            "15/15 [==============================] - 6s 316ms/step - loss: 1.7963 - binary_accuracy: 0.7083 - val_loss: 4.1066 - val_binary_accuracy: 0.4375\n",
            "Epoch 2/18\n",
            "15/15 [==============================] - 4s 266ms/step - loss: 1.5814 - binary_accuracy: 0.7328 - val_loss: 1.6749 - val_binary_accuracy: 0.5000\n",
            "Epoch 3/18\n",
            "15/15 [==============================] - 4s 291ms/step - loss: 0.7886 - binary_accuracy: 0.7500 - val_loss: 1.3967 - val_binary_accuracy: 0.6250\n",
            "Epoch 4/18\n",
            "15/15 [==============================] - 4s 294ms/step - loss: 0.6797 - binary_accuracy: 0.8190 - val_loss: 1.0564 - val_binary_accuracy: 0.6250\n",
            "Epoch 5/18\n",
            "15/15 [==============================] - 4s 282ms/step - loss: 0.4714 - binary_accuracy: 0.8276 - val_loss: 0.8024 - val_binary_accuracy: 0.6875\n",
            "Epoch 6/18\n",
            "15/15 [==============================] - 4s 287ms/step - loss: 0.3762 - binary_accuracy: 0.8793 - val_loss: 0.7881 - val_binary_accuracy: 0.7500\n",
            "Epoch 7/18\n",
            "15/15 [==============================] - 4s 272ms/step - loss: 0.2931 - binary_accuracy: 0.8917 - val_loss: 1.0787 - val_binary_accuracy: 0.6250\n",
            "Epoch 8/18\n",
            "15/15 [==============================] - 4s 297ms/step - loss: 0.3951 - binary_accuracy: 0.8750 - val_loss: 0.5469 - val_binary_accuracy: 0.8125\n",
            "Epoch 9/18\n",
            "15/15 [==============================] - 4s 288ms/step - loss: 0.4610 - binary_accuracy: 0.8667 - val_loss: 0.4651 - val_binary_accuracy: 0.7500\n",
            "Epoch 10/18\n",
            "15/15 [==============================] - 4s 275ms/step - loss: 0.2061 - binary_accuracy: 0.9138 - val_loss: 0.1160 - val_binary_accuracy: 0.9375\n",
            "Epoch 11/18\n",
            "15/15 [==============================] - 4s 296ms/step - loss: 0.3036 - binary_accuracy: 0.9167 - val_loss: 0.1914 - val_binary_accuracy: 0.8750\n",
            "Epoch 12/18\n",
            "15/15 [==============================] - 4s 280ms/step - loss: 0.2419 - binary_accuracy: 0.9083 - val_loss: 0.1648 - val_binary_accuracy: 0.9375\n",
            "Epoch 13/18\n",
            "15/15 [==============================] - 4s 282ms/step - loss: 0.2185 - binary_accuracy: 0.9310 - val_loss: 0.3077 - val_binary_accuracy: 0.8125\n",
            "Epoch 14/18\n",
            "15/15 [==============================] - 5s 309ms/step - loss: 0.2423 - binary_accuracy: 0.9167 - val_loss: 0.1156 - val_binary_accuracy: 0.9375\n",
            "Epoch 15/18\n",
            "15/15 [==============================] - 4s 279ms/step - loss: 0.1928 - binary_accuracy: 0.9417 - val_loss: 0.1070 - val_binary_accuracy: 0.9375\n",
            "Epoch 16/18\n",
            "15/15 [==============================] - 4s 296ms/step - loss: 0.1667 - binary_accuracy: 0.9417 - val_loss: 0.1491 - val_binary_accuracy: 1.0000\n",
            "Epoch 17/18\n",
            "15/15 [==============================] - 4s 285ms/step - loss: 0.0944 - binary_accuracy: 0.9500 - val_loss: 0.3924 - val_binary_accuracy: 0.8125\n",
            "Epoch 18/18\n",
            "15/15 [==============================] - 4s 294ms/step - loss: 0.1267 - binary_accuracy: 0.9417 - val_loss: 0.2809 - val_binary_accuracy: 0.9375\n"
          ]
        },
        {
          "output_type": "execute_result",
          "data": {
            "text/plain": [
              "<keras.callbacks.History at 0x7f657c778350>"
            ]
          },
          "metadata": {},
          "execution_count": 339
        }
      ],
      "source": [
        "model.fit(train_it, steps_per_epoch=15, validation_data=valid_it, validation_steps=2, epochs=18)"
      ]
    },
    {
      "cell_type": "markdown",
      "metadata": {
        "id": "IbLsWstvQmvf"
      },
      "source": [
        "## Fine-Tuning the Model"
      ]
    },
    {
      "cell_type": "code",
      "execution_count": null,
      "metadata": {
        "id": "T3e-YJh1Qmvh"
      },
      "outputs": [],
      "source": [
        "# Unfreeze the base model\n",
        "base_model.trainable = True\n",
        "\n",
        "model.compile(optimizer=keras.optimizers.RMSprop(learning_rate = .00001),  # Very low learning rate\n",
        "              loss=keras.losses.BinaryCrossentropy(from_logits=True),\n",
        "              metrics=[keras.metrics.BinaryAccuracy()])"
      ]
    },
    {
      "cell_type": "code",
      "execution_count": null,
      "metadata": {
        "id": "6hVhstI7Qmvi",
        "colab": {
          "base_uri": "https://localhost:8080/"
        },
        "outputId": "21362ada-8127-421a-8227-5b687348b574"
      },
      "outputs": [
        {
          "output_type": "stream",
          "name": "stdout",
          "text": [
            "Epoch 1/8\n",
            "15/15 [==============================] - 5s 367ms/step - loss: 0.2328 - binary_accuracy: 0.9483 - val_loss: 0.2873 - val_binary_accuracy: 0.7500\n",
            "Epoch 2/8\n",
            "15/15 [==============================] - 5s 320ms/step - loss: 0.0422 - binary_accuracy: 0.9828 - val_loss: 0.5202 - val_binary_accuracy: 0.7500\n",
            "Epoch 3/8\n",
            "15/15 [==============================] - 5s 304ms/step - loss: 0.2190 - binary_accuracy: 0.9655 - val_loss: 0.4166 - val_binary_accuracy: 0.8750\n",
            "Epoch 4/8\n",
            "15/15 [==============================] - 5s 299ms/step - loss: 0.1390 - binary_accuracy: 0.9500 - val_loss: 0.0252 - val_binary_accuracy: 1.0000\n",
            "Epoch 5/8\n",
            "15/15 [==============================] - 5s 311ms/step - loss: 0.0258 - binary_accuracy: 0.9917 - val_loss: 0.1439 - val_binary_accuracy: 0.8750\n",
            "Epoch 6/8\n",
            "15/15 [==============================] - 5s 319ms/step - loss: 0.0566 - binary_accuracy: 0.9828 - val_loss: 0.4322 - val_binary_accuracy: 0.8125\n",
            "Epoch 7/8\n",
            "15/15 [==============================] - 5s 356ms/step - loss: 0.1193 - binary_accuracy: 0.9741 - val_loss: 0.8192 - val_binary_accuracy: 0.7500\n",
            "Epoch 8/8\n",
            "15/15 [==============================] - 4s 295ms/step - loss: 0.0225 - binary_accuracy: 0.9917 - val_loss: 0.1195 - val_binary_accuracy: 0.9375\n"
          ]
        },
        {
          "output_type": "execute_result",
          "data": {
            "text/plain": [
              "<keras.callbacks.History at 0x7f657c62c990>"
            ]
          },
          "metadata": {},
          "execution_count": 342
        }
      ],
      "source": [
        "model.fit(train_it, steps_per_epoch=15, validation_data=valid_it, validation_steps=2, epochs=8)"
      ]
    },
    {
      "cell_type": "markdown",
      "metadata": {
        "id": "xwF9muxEQmvi"
      },
      "source": [
        "## Examining the Predictions"
      ]
    },
    {
      "cell_type": "code",
      "source": [
        "import os\n",
        "import matplotlib.pyplot as plt\n",
        "import matplotlib.image as mpimg\n",
        "from tensorflow.keras.preprocessing import image as image_utils\n",
        "from tensorflow.keras.applications.imagenet_utils import preprocess_input\n",
        "from tensorflow.math import confusion_matrix\n",
        "\n",
        "def show_image(image_path):\n",
        "    image = mpimg.imread(image_path)\n",
        "    plt.imshow(image)\n",
        "    plt.show()\n",
        "\n",
        "def make_predictions(image_path):\n",
        "    # show_image(image_path)\n",
        "    image = image_utils.load_img(image_path, target_size=(224, 224))\n",
        "    # plt.imshow(image)\n",
        "    image = image_utils.img_to_array(image)\n",
        "    image = image.reshape(1,224,224,3)\n",
        "    image = preprocess_input(image)\n",
        "    preds = model.predict(image)\n",
        "    return preds\n",
        "\n",
        "def make_label_n_predict(dir,current_label, label_set = [0,1], if_print = None):\n",
        "    print(f\"{current_label} value in progress\")\n",
        "    label_list = []\n",
        "    preds_actual = []\n",
        "    pred_list = []\n",
        "    for filename in os.listdir(dir):\n",
        "        label_list.append(current_label)\n",
        "        f = os.path.join(dir, filename)\n",
        "        # checking if it is a file\n",
        "        if os.path.isfile(f):\n",
        "            pred = make_predictions(f)[0][0]\n",
        "            preds_actual.append(pred)\n",
        "            if pred > -1.2:\n",
        "                if if_print == 1:\n",
        "                    print(pred)\n",
        "                    show_image(f)\n",
        "                pred_list.append(label_set[1])\n",
        "            else:\n",
        "                if if_print == 0:\n",
        "                    print(pred)\n",
        "                    show_image(f)\n",
        "                pred_list.append(label_set[0])\n",
        "    print(min(preds_actual),max(preds_actual))\n",
        "    return label_list, pred_list\n"
      ],
      "metadata": {
        "id": "3RauPBH_GKk4"
      },
      "execution_count": 27,
      "outputs": []
    },
    {
      "cell_type": "markdown",
      "source": [
        "Get confusion matrix"
      ],
      "metadata": {
        "id": "y3J_AQ6i4qAk"
      }
    },
    {
      "cell_type": "code",
      "source": [
        "import numpy as np\n",
        "import itertools\n",
        "import tensorflow as tf\n",
        "\n",
        "def plot_confusion_matrix(cm, class_names):\n",
        "    \"\"\"\n",
        "    Returns a matplotlib figure containing the plotted confusion matrix.\n",
        "    \n",
        "    Args:\n",
        "       cm (array, shape = [n, n]): a confusion matrix of integer classes\n",
        "       class_names (array, shape = [n]): String names of the integer classes\n",
        "    \"\"\"\n",
        "    \n",
        "    figure = plt.figure(figsize=(8, 8))\n",
        "    plt.imshow(cm, interpolation='nearest', cmap=plt.cm.Blues)\n",
        "    plt.title(\"Confusion matrix\")\n",
        "    plt.colorbar()\n",
        "    tick_marks = np.arange(len(class_names))\n",
        "    plt.xticks(tick_marks, class_names, rotation=45)\n",
        "    plt.yticks(tick_marks, class_names)\n",
        "    \n",
        "    # # Normalize the confusion matrix.\n",
        "    # cm = np.around(cm.astype('float') / cm.sum(axis=1)[:, np.newaxis], decimals=2)\n",
        "    \n",
        "    # Use white text if squares are dark; otherwise black.\n",
        "    threshold = cm.max() / 2.\n",
        "    \n",
        "    for i, j in itertools.product(range(cm.shape[0]), range(cm.shape[1])):\n",
        "        color = \"white\" if cm[i, j] > threshold else \"black\"\n",
        "        plt.text(j, i, cm[i, j], horizontalalignment=\"center\", color=color)\n",
        "        \n",
        "    plt.tight_layout()\n",
        "    plt.ylabel('True label')\n",
        "    plt.xlabel('Predicted label')\n",
        "    return figure"
      ],
      "metadata": {
        "id": "Ahq-xkRG588P"
      },
      "execution_count": 43,
      "outputs": []
    },
    {
      "cell_type": "code",
      "source": [
        "\n",
        "# yes\n",
        "dir = \"dataset/valid/yes\"\n",
        "current_label = 1\n",
        "yes_label, yes_pred = make_label_n_predict(dir,current_label, if_print = 0)\n",
        "\n",
        "# no\n",
        "dir = \"dataset/valid/no\"\n",
        "current_label = 0\n",
        "no_label, no_pred = make_label_n_predict(dir,current_label,  if_print = 1)\n",
        "\n",
        "y_label = yes_label + no_label\n",
        "y_pred = yes_pred + no_pred\n",
        "\n",
        "print()\n",
        "print(\"confusion matrix:\")\n",
        "cm = confusion_matrix(y_label, y_pred)\n",
        "proto_tensor = tf.make_tensor_proto(cm)\n",
        "array = tf.make_ndarray(proto_tensor)\n",
        "\n",
        "classes = np.asarray([\"not la voiture\", \"la voiture\"])\n",
        "\n",
        "print(plot_confusion_matrix(array, classes))"
      ],
      "metadata": {
        "colab": {
          "base_uri": "https://localhost:8080/",
          "height": 965
        },
        "id": "fjhOXfzxLo0j",
        "outputId": "5c6e5c91-ef31-428b-cfcc-d76a2b512846"
      },
      "execution_count": 46,
      "outputs": [
        {
          "output_type": "stream",
          "name": "stdout",
          "text": [
            "1 value in progress\n",
            "-4.30207\n"
          ]
        },
        {
          "output_type": "display_data",
          "data": {
            "text/plain": [
              "<Figure size 432x288 with 1 Axes>"
            ],
            "image/png": "[encoded data removed]"
          },
          "metadata": {
            "needs_background": "light"
          }
        },
        {
          "output_type": "stream",
          "name": "stdout",
          "text": [
            "-4.30207 13.776284\n",
            "0 value in progress\n",
            "-22.400742 -5.0755005\n",
            "\n",
            "confusion matrix:\n",
            "Figure(576x576)\n"
          ]
        },
        {
          "output_type": "display_data",
          "data": {
            "text/plain": [
              "<Figure size 576x576 with 2 Axes>"
            ],
            "image/png": "[encoded data removed]"
          },
          "metadata": {
            "needs_background": "light"
          }
        }
      ]
    },
    {
      "cell_type": "markdown",
      "source": [
        "Save Model"
      ],
      "metadata": {
        "id": "Sc_IRPm22bK8"
      }
    },
    {
      "cell_type": "code",
      "source": [
        "model.save('model_bkp')"
      ],
      "metadata": {
        "colab": {
          "base_uri": "https://localhost:8080/"
        },
        "id": "XB2AOkMXhla4",
        "outputId": "91a12098-3885-4352-831c-a327a08c527d"
      },
      "execution_count": null,
      "outputs": [
        {
          "output_type": "stream",
          "name": "stdout",
          "text": [
            "INFO:tensorflow:Assets written to: model_2_bkp/assets\n"
          ]
        }
      ]
    },
    {
      "cell_type": "markdown",
      "source": [
        "Load Model"
      ],
      "metadata": {
        "id": "Vvl3OeXd2e5O"
      }
    },
    {
      "cell_type": "code",
      "source": [
        "model = keras.models.load_model(\"model_2_bkp\")"
      ],
      "metadata": {
        "id": "NUZYnxHghyWf"
      },
      "execution_count": 21,
      "outputs": []
    }
  ],
  "metadata": {
    "kernelspec": {
      "display_name": "Python 3",
      "language": "python",
      "name": "python3"
    },
    "language_info": {
      "codemirror_mode": {
        "name": "ipython",
        "version": 3
      },
      "file_extension": ".py",
      "mimetype": "text/x-python",
      "name": "python",
      "nbconvert_exporter": "python",
      "pygments_lexer": "ipython3",
      "version": "3.6.9"
    },
    "colab": {
      "name": "Transfer-Learning-La-Voiture-Noire.ipynb",
      "provenance": [],
      "collapsed_sections": [
        "4iaVtTef1EU9",
        "YdPCwJUKQmvR",
        "vFpw_yvpQmvW",
        "blLRqkoiQmvY",
        "n8H1gZokQmva",
        "YOu1nPKwQmvc",
        "IbLsWstvQmvf"
      ]
    },
    "accelerator": "GPU",
    "gpuClass": "standard"
  },
  "nbformat": 4,
  "nbformat_minor": 0
}